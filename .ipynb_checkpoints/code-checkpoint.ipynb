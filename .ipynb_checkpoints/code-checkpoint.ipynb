{
 "cells": [
  {
   "cell_type": "code",
   "execution_count": 1,
   "id": "d7c01fac",
   "metadata": {},
   "outputs": [],
   "source": [
    "import os\n",
    "import numpy\n",
    "import numpy as np\n",
    "import matplotlib.pyplot as plt\n",
    "import matplotlib.image as mpimg\n",
    "from sklearn.neighbors import KNeighborsClassifier\n",
    "from sklearn.metrics import accuracy_score\n",
    "from skimage.io import imread\n",
    "from skimage.color import rgb2gray\n",
    "from skimage.transform import resize\n",
    "from sklearn.ensemble import RandomForestClassifier\n",
    "from sklearn.tree import DecisionTreeClassifier\n",
    "from sklearn.model_selection import cross_val_score\n",
    "from sklearn.neural_network import MLPClassifier"
   ]
  },
  {
   "cell_type": "code",
   "execution_count": 2,
   "id": "558464ae",
   "metadata": {},
   "outputs": [],
   "source": [
    "def getListOfFiles(dirName, data, key):\n",
    "    # create a list of file and sub directories \n",
    "    # names in the given directory \n",
    "    listOfFile = os.listdir(dirName)\n",
    "    # Iterate over all the entries\n",
    "    for entry in listOfFile:\n",
    "        # Create full path\n",
    "        fullPath = os.path.join(dirName, entry)\n",
    "        # If entry is a directory then get the list of files in this directory \n",
    "        if os.path.isdir(fullPath):\n",
    "            data[entry]=[]\n",
    "            data = getListOfFiles(fullPath,data, entry)\n",
    "        else:\n",
    "            data[key].append(fullPath)\n",
    "                \n",
    "    return data\n",
    "\n",
    "def rgb2graydeprecated(rgb):\n",
    "    return np.dot(rgb[...,:3], [0.2989, 0.5870, 0.1140])\n",
    "\n",
    "def getDataAndTargets(files):\n",
    "    data = list()\n",
    "    targets = list()\n",
    "    for key in files.keys():\n",
    "        for file in files[key]:\n",
    "            targets.append(int(key))\n",
    "            img = plt.imread(file)\n",
    "            img = resize(img, (100,100),anti_aliasing=True)\n",
    "            data.append(rgb2gray(img).reshape(1,-1)[0])\n",
    "    return data, targets\n",
    "\n",
    "def unison_shuffled_copies(a, b):\n",
    "    assert len(a) == len(b)\n",
    "    p = numpy.random.permutation(len(a))\n",
    "    return a[p], b[p]\n"
   ]
  },
  {
   "cell_type": "code",
   "execution_count": 3,
   "id": "f7e27d45",
   "metadata": {},
   "outputs": [],
   "source": [
    "testFiles = getListOfFiles(\"./dataset/TEST\", {}, '')"
   ]
  },
  {
   "cell_type": "code",
   "execution_count": 4,
   "id": "7d91c4ef",
   "metadata": {},
   "outputs": [],
   "source": [
    "trainFiles = getListOfFiles(\"./dataset/TRAIN\", {}, '')"
   ]
  },
  {
   "cell_type": "code",
   "execution_count": 5,
   "id": "e15c68a6",
   "metadata": {},
   "outputs": [],
   "source": [
    "testData, testTargets = getDataAndTargets(testFiles)\n",
    "#testData, testTargets = unison_shuffled_copies(testData, testTargets)\n"
   ]
  },
  {
   "cell_type": "code",
   "execution_count": 6,
   "id": "ec5f63c8",
   "metadata": {},
   "outputs": [],
   "source": [
    "trainData, trainTargets = getDataAndTargets(trainFiles)\n",
    "# trainData, trainTargets = unison_shuffled_copies(trainData, trainTargets)"
   ]
  },
  {
   "cell_type": "code",
   "execution_count": null,
   "id": "da15af20",
   "metadata": {},
   "outputs": [],
   "source": [
    "clfMlp = MLPClassifier(solver='sgd', alpha=1e-3, hidden_layer_sizes=(20,11,5,3,2), random_state=1, max_iter=2000)\n",
    "clfMlp.fit(trainData, trainTargets)\n",
    "predicted=clfMlp.predict(testData)"
   ]
  },
  {
   "cell_type": "code",
   "execution_count": null,
   "id": "f97f8329",
   "metadata": {},
   "outputs": [],
   "source": [
    "print(\"Accuracy MLP: \", accuracy_score(testTargets, predicted))"
   ]
  },
  {
   "cell_type": "code",
   "execution_count": null,
   "id": "d6065eef",
   "metadata": {},
   "outputs": [],
   "source": [
    "print(testTargets)\n"
   ]
  }
 ],
 "metadata": {
  "kernelspec": {
   "display_name": "Python 3 (ipykernel)",
   "language": "python",
   "name": "python3"
  },
  "language_info": {
   "codemirror_mode": {
    "name": "ipython",
    "version": 3
   },
   "file_extension": ".py",
   "mimetype": "text/x-python",
   "name": "python",
   "nbconvert_exporter": "python",
   "pygments_lexer": "ipython3",
   "version": "3.10.4"
  }
 },
 "nbformat": 4,
 "nbformat_minor": 5
}
