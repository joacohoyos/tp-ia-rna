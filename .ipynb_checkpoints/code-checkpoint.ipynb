{
 "cells": [
  {
   "cell_type": "code",
   "execution_count": 200,
   "id": "1b62765d",
   "metadata": {},
   "outputs": [],
   "source": [
    "import os\n",
    "import numpy\n",
    "import numpy as np\n",
    "import matplotlib.pyplot as plt\n",
    "import matplotlib.image as mpimg\n",
    "from sklearn.neighbors import KNeighborsClassifier\n",
    "from sklearn.metrics import accuracy_score\n",
    "from skimage.color import rgb2gray\n",
    "from skimage.io import imread"
   ]
  },
  {
   "cell_type": "code",
   "execution_count": 201,
   "id": "7b3ebee3",
   "metadata": {},
   "outputs": [],
   "source": [
    "def getListOfFiles(dirName, data, key):\n",
    "    # create a list of file and sub directories \n",
    "    # names in the given directory \n",
    "    listOfFile = os.listdir(dirName)\n",
    "    # Iterate over all the entries\n",
    "    for entry in listOfFile:\n",
    "        # Create full path\n",
    "        fullPath = os.path.join(dirName, entry)\n",
    "        # If entry is a directory then get the list of files in this directory \n",
    "        if os.path.isdir(fullPath):\n",
    "            data[entry]=[]\n",
    "            data = getListOfFiles(fullPath,data, entry)\n",
    "        else:\n",
    "            data[key].append(fullPath)\n",
    "                \n",
    "    return data\n",
    "\n",
    "def rgb2graydeprecated(rgb):\n",
    "    return np.dot(rgb[...,:3], [0.2989, 0.5870, 0.1140])\n",
    "\n",
    "def getDataAndTargets(files):\n",
    "    data = list()\n",
    "    targets = list()\n",
    "    for key in files.keys():\n",
    "        for file in files[key]:\n",
    "            targets.append(key)\n",
    "            img = plt.imread(file)\n",
    "            data.append(rbg2gray(img).reshape(-1,img.size))\n",
    "    return data, targets\n",
    "\n"
   ]
  },
  {
   "cell_type": "code",
   "execution_count": 202,
   "id": "8e5e1ab9",
   "metadata": {},
   "outputs": [],
   "source": [
    "testFiles = getListOfFiles(\"./dataset/TEST\", {}, '')"
   ]
  },
  {
   "cell_type": "code",
   "execution_count": 203,
   "id": "604bbeba",
   "metadata": {},
   "outputs": [],
   "source": [
    "trainFiles = getListOfFiles(\"./dataset/TEST\", {}, '')"
   ]
  },
  {
   "cell_type": "code",
   "execution_count": 204,
   "id": "501c150a",
   "metadata": {},
   "outputs": [
    {
     "ename": "NameError",
     "evalue": "name 'rbg2gray' is not defined",
     "output_type": "error",
     "traceback": [
      "\u001b[0;31m---------------------------------------------------------------------------\u001b[0m",
      "\u001b[0;31mNameError\u001b[0m                                 Traceback (most recent call last)",
      "Input \u001b[0;32mIn [204]\u001b[0m, in \u001b[0;36m<cell line: 1>\u001b[0;34m()\u001b[0m\n\u001b[0;32m----> 1\u001b[0m testData, testTargets \u001b[38;5;241m=\u001b[39m \u001b[43mgetDataAndTargets\u001b[49m\u001b[43m(\u001b[49m\u001b[43mtestFiles\u001b[49m\u001b[43m)\u001b[49m\n",
      "Input \u001b[0;32mIn [201]\u001b[0m, in \u001b[0;36mgetDataAndTargets\u001b[0;34m(files)\u001b[0m\n\u001b[1;32m     26\u001b[0m         targets\u001b[38;5;241m.\u001b[39mappend(key)\n\u001b[1;32m     27\u001b[0m         img \u001b[38;5;241m=\u001b[39m plt\u001b[38;5;241m.\u001b[39mimread(file)\n\u001b[0;32m---> 28\u001b[0m         data\u001b[38;5;241m.\u001b[39mappend(\u001b[43mrbg2gray\u001b[49m(img)\u001b[38;5;241m.\u001b[39mreshape(\u001b[38;5;241m-\u001b[39m\u001b[38;5;241m1\u001b[39m,img\u001b[38;5;241m.\u001b[39msize))\n\u001b[1;32m     29\u001b[0m \u001b[38;5;28;01mreturn\u001b[39;00m data, targets\n",
      "\u001b[0;31mNameError\u001b[0m: name 'rbg2gray' is not defined"
     ]
    }
   ],
   "source": [
    "testData, testTargets = getDataAndTargets(testFiles)\n"
   ]
  },
  {
   "cell_type": "code",
   "execution_count": 199,
   "id": "463f1587",
   "metadata": {},
   "outputs": [
    {
     "ename": "NameError",
     "evalue": "name 'rbg2gray' is not defined",
     "output_type": "error",
     "traceback": [
      "\u001b[0;31m---------------------------------------------------------------------------\u001b[0m",
      "\u001b[0;31mNameError\u001b[0m                                 Traceback (most recent call last)",
      "Input \u001b[0;32mIn [199]\u001b[0m, in \u001b[0;36m<cell line: 1>\u001b[0;34m()\u001b[0m\n\u001b[0;32m----> 1\u001b[0m trainData, trainTargets \u001b[38;5;241m=\u001b[39m \u001b[43mgetDataAndTargets\u001b[49m\u001b[43m(\u001b[49m\u001b[43mtrainFiles\u001b[49m\u001b[43m)\u001b[49m\n",
      "Input \u001b[0;32mIn [195]\u001b[0m, in \u001b[0;36mgetDataAndTargets\u001b[0;34m(files)\u001b[0m\n\u001b[1;32m     26\u001b[0m         targets\u001b[38;5;241m.\u001b[39mappend(key)\n\u001b[1;32m     27\u001b[0m         img \u001b[38;5;241m=\u001b[39m plt\u001b[38;5;241m.\u001b[39mimread(file)\n\u001b[0;32m---> 28\u001b[0m         data\u001b[38;5;241m.\u001b[39mappend(\u001b[43mrbg2gray\u001b[49m(img)\u001b[38;5;241m.\u001b[39mreshape(\u001b[38;5;241m-\u001b[39m\u001b[38;5;241m1\u001b[39m,img\u001b[38;5;241m.\u001b[39msize))\n\u001b[1;32m     29\u001b[0m \u001b[38;5;28;01mreturn\u001b[39;00m data, targets\n",
      "\u001b[0;31mNameError\u001b[0m: name 'rbg2gray' is not defined"
     ]
    }
   ],
   "source": [
    "trainData, trainTargets = getDataAndTargets(trainFiles)"
   ]
  },
  {
   "cell_type": "code",
   "execution_count": 182,
   "id": "91a1944c",
   "metadata": {},
   "outputs": [],
   "source": [
    "clf = KNeighborsClassifier()"
   ]
  },
  {
   "cell_type": "code",
   "execution_count": 185,
   "id": "0749b6cf",
   "metadata": {},
   "outputs": [
    {
     "name": "stderr",
     "output_type": "stream",
     "text": [
      "/home/joaquin/.local/lib/python3.8/site-packages/sklearn/utils/validation.py:856: VisibleDeprecationWarning: Creating an ndarray from ragged nested sequences (which is a list-or-tuple of lists-or-tuples-or ndarrays with different lengths or shapes) is deprecated. If you meant to do this, you must specify 'dtype=object' when creating the ndarray.\n",
      "  array = np.asarray(array, order=order, dtype=dtype)\n"
     ]
    },
    {
     "ename": "ValueError",
     "evalue": "Expected 2D array, got 1D array instead:\narray=[array([[253.9746, 253.9746, 253.9746, ..., 254.0778, 254.0778, 254.0778],\n        [253.9746, 253.9746, 253.9746, ..., 254.0778, 254.0778, 254.0778],\n        [253.9746, 253.9746, 253.9746, ..., 254.0778, 254.0778, 254.0778],\n        ...,\n        [254.9745, 253.9746, 254.9745, ..., 253.9746, 253.9746, 253.9746],\n        [254.9745, 253.9746, 252.9747, ..., 253.9746, 253.9746, 253.9746],\n        [254.9745, 254.9745, 250.9749, ..., 253.9746, 253.9746, 253.9746]])\n array([[253.9746, 253.9746, 253.9746, ..., 254.9745, 254.9745, 254.9745],\n        [253.9746, 253.9746, 253.9746, ..., 254.9745, 254.9745, 254.9745],\n        [253.9746, 253.9746, 253.9746, ..., 254.9745, 254.9745, 254.9745],\n        ...,\n        [254.9745, 252.9747, 251.9748, ..., 253.9746, 253.9746, 253.9746],\n        [254.9745, 252.9747, 251.9748, ..., 253.9746, 253.9746, 253.9746],\n        [253.9746, 253.9746, 253.9746, ..., 253.9746, 253.9746, 253.9746]])\n array([[251.9748, 253.9746, 253.9746, ..., 253.6649, 253.6649, 253.6649],\n        [251.9748, 253.9746, 253.9746, ..., 253.6649, 253.6649, 253.6649],\n        [251.9748, 253.9746, 253.9746, ..., 253.6649, 253.6649, 253.6649],\n        ...,\n        [251.7978, 253.0365, 253.0365, ..., 252.6236, 252.6236, 252.6236],\n        [251.7978, 253.0365, 253.0365, ..., 253.8776, 253.8776, 253.8776],\n        [251.8778, 254.2905, 254.2905, ..., 254.1056, 254.1056, 254.1056]])\n ...\n array([[253.9746, 253.9746, 253.9746, ..., 253.9746, 253.9746, 253.9746],\n        [253.9746, 253.9746, 253.9746, ..., 253.9746, 253.9746, 253.9746],\n        [253.9746, 253.9746, 253.9746, ..., 253.9746, 253.9746, 253.9746],\n        ...,\n        [172.0236, 168.9961, 168.9961, ..., 252.9747, 254.9745, 254.9745],\n        [135.1413, 137.1133, 137.1133, ..., 252.9747, 254.9745, 254.9745],\n        [130.1061, 138.0883, 138.0883, ..., 250.9749, 254.9745, 254.9745]])\n array([[253.5016, 253.5016, 253.5016, ..., 254.9745, 254.9745, 254.9745],\n        [253.5016, 253.5016, 253.5016, ..., 254.9745, 254.9745, 254.9745],\n        [253.5016, 253.5016, 253.5016, ..., 254.9745, 254.9745, 254.9745],\n        ...,\n        [252.9146, 252.9146, 252.9146, ..., 254.0886, 254.0886, 254.0886],\n        [253.5016, 253.5016, 253.5016, ..., 254.0886, 254.0886, 254.0886],\n        [253.5016, 253.5016, 253.5016, ..., 254.0886, 254.0886, 254.0886]])\n array([[254.9745, 254.9745, 254.9745, ..., 253.9746, 253.9746, 253.9746],\n        [254.9745, 254.9745, 254.9745, ..., 253.9746, 253.9746, 253.9746],\n        [254.9745, 254.9745, 254.9745, ..., 253.9746, 253.9746, 253.9746],\n        ...,\n        [253.5016, 253.5016, 253.5016, ..., 254.9745, 254.9745, 254.9745],\n        [253.5016, 253.5016, 253.5016, ..., 254.9745, 254.9745, 254.9745],\n        [253.5016, 253.5016, 253.5016, ..., 254.9745, 254.9745, 254.9745]])].\nReshape your data either using array.reshape(-1, 1) if your data has a single feature or array.reshape(1, -1) if it contains a single sample.",
     "output_type": "error",
     "traceback": [
      "\u001b[0;31m---------------------------------------------------------------------------\u001b[0m",
      "\u001b[0;31mValueError\u001b[0m                                Traceback (most recent call last)",
      "Input \u001b[0;32mIn [185]\u001b[0m, in \u001b[0;36m<cell line: 2>\u001b[0;34m()\u001b[0m\n\u001b[1;32m      1\u001b[0m \u001b[38;5;66;03m# Train model\u001b[39;00m\n\u001b[0;32m----> 2\u001b[0m \u001b[43mclf\u001b[49m\u001b[38;5;241;43m.\u001b[39;49m\u001b[43mfit\u001b[49m\u001b[43m(\u001b[49m\u001b[43mtrainData\u001b[49m\u001b[43m,\u001b[49m\u001b[43m \u001b[49m\u001b[43mtrainTargets\u001b[49m\u001b[43m)\u001b[49m\n",
      "File \u001b[0;32m~/.local/lib/python3.8/site-packages/sklearn/neighbors/_classification.py:200\u001b[0m, in \u001b[0;36mKNeighborsClassifier.fit\u001b[0;34m(self, X, y)\u001b[0m\n\u001b[1;32m    181\u001b[0m \u001b[38;5;124;03m\"\"\"Fit the k-nearest neighbors classifier from the training dataset.\u001b[39;00m\n\u001b[1;32m    182\u001b[0m \n\u001b[1;32m    183\u001b[0m \u001b[38;5;124;03mParameters\u001b[39;00m\n\u001b[0;32m   (...)\u001b[0m\n\u001b[1;32m    196\u001b[0m \u001b[38;5;124;03m    The fitted k-nearest neighbors classifier.\u001b[39;00m\n\u001b[1;32m    197\u001b[0m \u001b[38;5;124;03m\"\"\"\u001b[39;00m\n\u001b[1;32m    198\u001b[0m \u001b[38;5;28mself\u001b[39m\u001b[38;5;241m.\u001b[39mweights \u001b[38;5;241m=\u001b[39m _check_weights(\u001b[38;5;28mself\u001b[39m\u001b[38;5;241m.\u001b[39mweights)\n\u001b[0;32m--> 200\u001b[0m \u001b[38;5;28;01mreturn\u001b[39;00m \u001b[38;5;28;43mself\u001b[39;49m\u001b[38;5;241;43m.\u001b[39;49m\u001b[43m_fit\u001b[49m\u001b[43m(\u001b[49m\u001b[43mX\u001b[49m\u001b[43m,\u001b[49m\u001b[43m \u001b[49m\u001b[43my\u001b[49m\u001b[43m)\u001b[49m\n",
      "File \u001b[0;32m~/.local/lib/python3.8/site-packages/sklearn/neighbors/_base.py:407\u001b[0m, in \u001b[0;36mNeighborsBase._fit\u001b[0;34m(self, X, y)\u001b[0m\n\u001b[1;32m    405\u001b[0m \u001b[38;5;28;01mif\u001b[39;00m \u001b[38;5;28mself\u001b[39m\u001b[38;5;241m.\u001b[39m_get_tags()[\u001b[38;5;124m\"\u001b[39m\u001b[38;5;124mrequires_y\u001b[39m\u001b[38;5;124m\"\u001b[39m]:\n\u001b[1;32m    406\u001b[0m     \u001b[38;5;28;01mif\u001b[39;00m \u001b[38;5;129;01mnot\u001b[39;00m \u001b[38;5;28misinstance\u001b[39m(X, (KDTree, BallTree, NeighborsBase)):\n\u001b[0;32m--> 407\u001b[0m         X, y \u001b[38;5;241m=\u001b[39m \u001b[38;5;28;43mself\u001b[39;49m\u001b[38;5;241;43m.\u001b[39;49m\u001b[43m_validate_data\u001b[49m\u001b[43m(\u001b[49m\n\u001b[1;32m    408\u001b[0m \u001b[43m            \u001b[49m\u001b[43mX\u001b[49m\u001b[43m,\u001b[49m\u001b[43m \u001b[49m\u001b[43my\u001b[49m\u001b[43m,\u001b[49m\u001b[43m \u001b[49m\u001b[43maccept_sparse\u001b[49m\u001b[38;5;241;43m=\u001b[39;49m\u001b[38;5;124;43m\"\u001b[39;49m\u001b[38;5;124;43mcsr\u001b[39;49m\u001b[38;5;124;43m\"\u001b[39;49m\u001b[43m,\u001b[49m\u001b[43m \u001b[49m\u001b[43mmulti_output\u001b[49m\u001b[38;5;241;43m=\u001b[39;49m\u001b[38;5;28;43;01mTrue\u001b[39;49;00m\u001b[43m,\u001b[49m\u001b[43m \u001b[49m\u001b[43morder\u001b[49m\u001b[38;5;241;43m=\u001b[39;49m\u001b[38;5;124;43m\"\u001b[39;49m\u001b[38;5;124;43mC\u001b[39;49m\u001b[38;5;124;43m\"\u001b[39;49m\n\u001b[1;32m    409\u001b[0m \u001b[43m        \u001b[49m\u001b[43m)\u001b[49m\n\u001b[1;32m    411\u001b[0m     \u001b[38;5;28;01mif\u001b[39;00m is_classifier(\u001b[38;5;28mself\u001b[39m):\n\u001b[1;32m    412\u001b[0m         \u001b[38;5;66;03m# Classification targets require a specific format\u001b[39;00m\n\u001b[1;32m    413\u001b[0m         \u001b[38;5;28;01mif\u001b[39;00m y\u001b[38;5;241m.\u001b[39mndim \u001b[38;5;241m==\u001b[39m \u001b[38;5;241m1\u001b[39m \u001b[38;5;129;01mor\u001b[39;00m y\u001b[38;5;241m.\u001b[39mndim \u001b[38;5;241m==\u001b[39m \u001b[38;5;241m2\u001b[39m \u001b[38;5;129;01mand\u001b[39;00m y\u001b[38;5;241m.\u001b[39mshape[\u001b[38;5;241m1\u001b[39m] \u001b[38;5;241m==\u001b[39m \u001b[38;5;241m1\u001b[39m:\n",
      "File \u001b[0;32m~/.local/lib/python3.8/site-packages/sklearn/base.py:596\u001b[0m, in \u001b[0;36mBaseEstimator._validate_data\u001b[0;34m(self, X, y, reset, validate_separately, **check_params)\u001b[0m\n\u001b[1;32m    594\u001b[0m         y \u001b[38;5;241m=\u001b[39m check_array(y, input_name\u001b[38;5;241m=\u001b[39m\u001b[38;5;124m\"\u001b[39m\u001b[38;5;124my\u001b[39m\u001b[38;5;124m\"\u001b[39m, \u001b[38;5;241m*\u001b[39m\u001b[38;5;241m*\u001b[39mcheck_y_params)\n\u001b[1;32m    595\u001b[0m     \u001b[38;5;28;01melse\u001b[39;00m:\n\u001b[0;32m--> 596\u001b[0m         X, y \u001b[38;5;241m=\u001b[39m \u001b[43mcheck_X_y\u001b[49m\u001b[43m(\u001b[49m\u001b[43mX\u001b[49m\u001b[43m,\u001b[49m\u001b[43m \u001b[49m\u001b[43my\u001b[49m\u001b[43m,\u001b[49m\u001b[43m \u001b[49m\u001b[38;5;241;43m*\u001b[39;49m\u001b[38;5;241;43m*\u001b[39;49m\u001b[43mcheck_params\u001b[49m\u001b[43m)\u001b[49m\n\u001b[1;32m    597\u001b[0m     out \u001b[38;5;241m=\u001b[39m X, y\n\u001b[1;32m    599\u001b[0m \u001b[38;5;28;01mif\u001b[39;00m \u001b[38;5;129;01mnot\u001b[39;00m no_val_X \u001b[38;5;129;01mand\u001b[39;00m check_params\u001b[38;5;241m.\u001b[39mget(\u001b[38;5;124m\"\u001b[39m\u001b[38;5;124mensure_2d\u001b[39m\u001b[38;5;124m\"\u001b[39m, \u001b[38;5;28;01mTrue\u001b[39;00m):\n",
      "File \u001b[0;32m~/.local/lib/python3.8/site-packages/sklearn/utils/validation.py:1074\u001b[0m, in \u001b[0;36mcheck_X_y\u001b[0;34m(X, y, accept_sparse, accept_large_sparse, dtype, order, copy, force_all_finite, ensure_2d, allow_nd, multi_output, ensure_min_samples, ensure_min_features, y_numeric, estimator)\u001b[0m\n\u001b[1;32m   1069\u001b[0m         estimator_name \u001b[38;5;241m=\u001b[39m _check_estimator_name(estimator)\n\u001b[1;32m   1070\u001b[0m     \u001b[38;5;28;01mraise\u001b[39;00m \u001b[38;5;167;01mValueError\u001b[39;00m(\n\u001b[1;32m   1071\u001b[0m         \u001b[38;5;124mf\u001b[39m\u001b[38;5;124m\"\u001b[39m\u001b[38;5;132;01m{\u001b[39;00mestimator_name\u001b[38;5;132;01m}\u001b[39;00m\u001b[38;5;124m requires y to be passed, but the target y is None\u001b[39m\u001b[38;5;124m\"\u001b[39m\n\u001b[1;32m   1072\u001b[0m     )\n\u001b[0;32m-> 1074\u001b[0m X \u001b[38;5;241m=\u001b[39m \u001b[43mcheck_array\u001b[49m\u001b[43m(\u001b[49m\n\u001b[1;32m   1075\u001b[0m \u001b[43m    \u001b[49m\u001b[43mX\u001b[49m\u001b[43m,\u001b[49m\n\u001b[1;32m   1076\u001b[0m \u001b[43m    \u001b[49m\u001b[43maccept_sparse\u001b[49m\u001b[38;5;241;43m=\u001b[39;49m\u001b[43maccept_sparse\u001b[49m\u001b[43m,\u001b[49m\n\u001b[1;32m   1077\u001b[0m \u001b[43m    \u001b[49m\u001b[43maccept_large_sparse\u001b[49m\u001b[38;5;241;43m=\u001b[39;49m\u001b[43maccept_large_sparse\u001b[49m\u001b[43m,\u001b[49m\n\u001b[1;32m   1078\u001b[0m \u001b[43m    \u001b[49m\u001b[43mdtype\u001b[49m\u001b[38;5;241;43m=\u001b[39;49m\u001b[43mdtype\u001b[49m\u001b[43m,\u001b[49m\n\u001b[1;32m   1079\u001b[0m \u001b[43m    \u001b[49m\u001b[43morder\u001b[49m\u001b[38;5;241;43m=\u001b[39;49m\u001b[43morder\u001b[49m\u001b[43m,\u001b[49m\n\u001b[1;32m   1080\u001b[0m \u001b[43m    \u001b[49m\u001b[43mcopy\u001b[49m\u001b[38;5;241;43m=\u001b[39;49m\u001b[43mcopy\u001b[49m\u001b[43m,\u001b[49m\n\u001b[1;32m   1081\u001b[0m \u001b[43m    \u001b[49m\u001b[43mforce_all_finite\u001b[49m\u001b[38;5;241;43m=\u001b[39;49m\u001b[43mforce_all_finite\u001b[49m\u001b[43m,\u001b[49m\n\u001b[1;32m   1082\u001b[0m \u001b[43m    \u001b[49m\u001b[43mensure_2d\u001b[49m\u001b[38;5;241;43m=\u001b[39;49m\u001b[43mensure_2d\u001b[49m\u001b[43m,\u001b[49m\n\u001b[1;32m   1083\u001b[0m \u001b[43m    \u001b[49m\u001b[43mallow_nd\u001b[49m\u001b[38;5;241;43m=\u001b[39;49m\u001b[43mallow_nd\u001b[49m\u001b[43m,\u001b[49m\n\u001b[1;32m   1084\u001b[0m \u001b[43m    \u001b[49m\u001b[43mensure_min_samples\u001b[49m\u001b[38;5;241;43m=\u001b[39;49m\u001b[43mensure_min_samples\u001b[49m\u001b[43m,\u001b[49m\n\u001b[1;32m   1085\u001b[0m \u001b[43m    \u001b[49m\u001b[43mensure_min_features\u001b[49m\u001b[38;5;241;43m=\u001b[39;49m\u001b[43mensure_min_features\u001b[49m\u001b[43m,\u001b[49m\n\u001b[1;32m   1086\u001b[0m \u001b[43m    \u001b[49m\u001b[43mestimator\u001b[49m\u001b[38;5;241;43m=\u001b[39;49m\u001b[43mestimator\u001b[49m\u001b[43m,\u001b[49m\n\u001b[1;32m   1087\u001b[0m \u001b[43m    \u001b[49m\u001b[43minput_name\u001b[49m\u001b[38;5;241;43m=\u001b[39;49m\u001b[38;5;124;43m\"\u001b[39;49m\u001b[38;5;124;43mX\u001b[39;49m\u001b[38;5;124;43m\"\u001b[39;49m\u001b[43m,\u001b[49m\n\u001b[1;32m   1088\u001b[0m \u001b[43m\u001b[49m\u001b[43m)\u001b[49m\n\u001b[1;32m   1090\u001b[0m y \u001b[38;5;241m=\u001b[39m _check_y(y, multi_output\u001b[38;5;241m=\u001b[39mmulti_output, y_numeric\u001b[38;5;241m=\u001b[39my_numeric, estimator\u001b[38;5;241m=\u001b[39mestimator)\n\u001b[1;32m   1092\u001b[0m check_consistent_length(X, y)\n",
      "File \u001b[0;32m~/.local/lib/python3.8/site-packages/sklearn/utils/validation.py:879\u001b[0m, in \u001b[0;36mcheck_array\u001b[0;34m(array, accept_sparse, accept_large_sparse, dtype, order, copy, force_all_finite, ensure_2d, allow_nd, ensure_min_samples, ensure_min_features, estimator, input_name)\u001b[0m\n\u001b[1;32m    877\u001b[0m     \u001b[38;5;66;03m# If input is 1D raise error\u001b[39;00m\n\u001b[1;32m    878\u001b[0m     \u001b[38;5;28;01mif\u001b[39;00m array\u001b[38;5;241m.\u001b[39mndim \u001b[38;5;241m==\u001b[39m \u001b[38;5;241m1\u001b[39m:\n\u001b[0;32m--> 879\u001b[0m         \u001b[38;5;28;01mraise\u001b[39;00m \u001b[38;5;167;01mValueError\u001b[39;00m(\n\u001b[1;32m    880\u001b[0m             \u001b[38;5;124m\"\u001b[39m\u001b[38;5;124mExpected 2D array, got 1D array instead:\u001b[39m\u001b[38;5;130;01m\\n\u001b[39;00m\u001b[38;5;124marray=\u001b[39m\u001b[38;5;132;01m{}\u001b[39;00m\u001b[38;5;124m.\u001b[39m\u001b[38;5;130;01m\\n\u001b[39;00m\u001b[38;5;124m\"\u001b[39m\n\u001b[1;32m    881\u001b[0m             \u001b[38;5;124m\"\u001b[39m\u001b[38;5;124mReshape your data either using array.reshape(-1, 1) if \u001b[39m\u001b[38;5;124m\"\u001b[39m\n\u001b[1;32m    882\u001b[0m             \u001b[38;5;124m\"\u001b[39m\u001b[38;5;124myour data has a single feature or array.reshape(1, -1) \u001b[39m\u001b[38;5;124m\"\u001b[39m\n\u001b[1;32m    883\u001b[0m             \u001b[38;5;124m\"\u001b[39m\u001b[38;5;124mif it contains a single sample.\u001b[39m\u001b[38;5;124m\"\u001b[39m\u001b[38;5;241m.\u001b[39mformat(array)\n\u001b[1;32m    884\u001b[0m         )\n\u001b[1;32m    886\u001b[0m \u001b[38;5;28;01mif\u001b[39;00m dtype_numeric \u001b[38;5;129;01mand\u001b[39;00m array\u001b[38;5;241m.\u001b[39mdtype\u001b[38;5;241m.\u001b[39mkind \u001b[38;5;129;01min\u001b[39;00m \u001b[38;5;124m\"\u001b[39m\u001b[38;5;124mUSV\u001b[39m\u001b[38;5;124m\"\u001b[39m:\n\u001b[1;32m    887\u001b[0m     \u001b[38;5;28;01mraise\u001b[39;00m \u001b[38;5;167;01mValueError\u001b[39;00m(\n\u001b[1;32m    888\u001b[0m         \u001b[38;5;124m\"\u001b[39m\u001b[38;5;124mdtype=\u001b[39m\u001b[38;5;124m'\u001b[39m\u001b[38;5;124mnumeric\u001b[39m\u001b[38;5;124m'\u001b[39m\u001b[38;5;124m is not compatible with arrays of bytes/strings.\u001b[39m\u001b[38;5;124m\"\u001b[39m\n\u001b[1;32m    889\u001b[0m         \u001b[38;5;124m\"\u001b[39m\u001b[38;5;124mConvert your data to numeric values explicitly instead.\u001b[39m\u001b[38;5;124m\"\u001b[39m\n\u001b[1;32m    890\u001b[0m     )\n",
      "\u001b[0;31mValueError\u001b[0m: Expected 2D array, got 1D array instead:\narray=[array([[253.9746, 253.9746, 253.9746, ..., 254.0778, 254.0778, 254.0778],\n        [253.9746, 253.9746, 253.9746, ..., 254.0778, 254.0778, 254.0778],\n        [253.9746, 253.9746, 253.9746, ..., 254.0778, 254.0778, 254.0778],\n        ...,\n        [254.9745, 253.9746, 254.9745, ..., 253.9746, 253.9746, 253.9746],\n        [254.9745, 253.9746, 252.9747, ..., 253.9746, 253.9746, 253.9746],\n        [254.9745, 254.9745, 250.9749, ..., 253.9746, 253.9746, 253.9746]])\n array([[253.9746, 253.9746, 253.9746, ..., 254.9745, 254.9745, 254.9745],\n        [253.9746, 253.9746, 253.9746, ..., 254.9745, 254.9745, 254.9745],\n        [253.9746, 253.9746, 253.9746, ..., 254.9745, 254.9745, 254.9745],\n        ...,\n        [254.9745, 252.9747, 251.9748, ..., 253.9746, 253.9746, 253.9746],\n        [254.9745, 252.9747, 251.9748, ..., 253.9746, 253.9746, 253.9746],\n        [253.9746, 253.9746, 253.9746, ..., 253.9746, 253.9746, 253.9746]])\n array([[251.9748, 253.9746, 253.9746, ..., 253.6649, 253.6649, 253.6649],\n        [251.9748, 253.9746, 253.9746, ..., 253.6649, 253.6649, 253.6649],\n        [251.9748, 253.9746, 253.9746, ..., 253.6649, 253.6649, 253.6649],\n        ...,\n        [251.7978, 253.0365, 253.0365, ..., 252.6236, 252.6236, 252.6236],\n        [251.7978, 253.0365, 253.0365, ..., 253.8776, 253.8776, 253.8776],\n        [251.8778, 254.2905, 254.2905, ..., 254.1056, 254.1056, 254.1056]])\n ...\n array([[253.9746, 253.9746, 253.9746, ..., 253.9746, 253.9746, 253.9746],\n        [253.9746, 253.9746, 253.9746, ..., 253.9746, 253.9746, 253.9746],\n        [253.9746, 253.9746, 253.9746, ..., 253.9746, 253.9746, 253.9746],\n        ...,\n        [172.0236, 168.9961, 168.9961, ..., 252.9747, 254.9745, 254.9745],\n        [135.1413, 137.1133, 137.1133, ..., 252.9747, 254.9745, 254.9745],\n        [130.1061, 138.0883, 138.0883, ..., 250.9749, 254.9745, 254.9745]])\n array([[253.5016, 253.5016, 253.5016, ..., 254.9745, 254.9745, 254.9745],\n        [253.5016, 253.5016, 253.5016, ..., 254.9745, 254.9745, 254.9745],\n        [253.5016, 253.5016, 253.5016, ..., 254.9745, 254.9745, 254.9745],\n        ...,\n        [252.9146, 252.9146, 252.9146, ..., 254.0886, 254.0886, 254.0886],\n        [253.5016, 253.5016, 253.5016, ..., 254.0886, 254.0886, 254.0886],\n        [253.5016, 253.5016, 253.5016, ..., 254.0886, 254.0886, 254.0886]])\n array([[254.9745, 254.9745, 254.9745, ..., 253.9746, 253.9746, 253.9746],\n        [254.9745, 254.9745, 254.9745, ..., 253.9746, 253.9746, 253.9746],\n        [254.9745, 254.9745, 254.9745, ..., 253.9746, 253.9746, 253.9746],\n        ...,\n        [253.5016, 253.5016, 253.5016, ..., 254.9745, 254.9745, 254.9745],\n        [253.5016, 253.5016, 253.5016, ..., 254.9745, 254.9745, 254.9745],\n        [253.5016, 253.5016, 253.5016, ..., 254.9745, 254.9745, 254.9745]])].\nReshape your data either using array.reshape(-1, 1) if your data has a single feature or array.reshape(1, -1) if it contains a single sample."
     ]
    }
   ],
   "source": [
    "# Train model\n",
    "clf.fit(trainData, trainTargets)"
   ]
  },
  {
   "cell_type": "code",
   "execution_count": null,
   "id": "fa50ef9a",
   "metadata": {},
   "outputs": [],
   "source": [
    "# Compute Predictions\n",
    "predicted = clf.predict(testData)"
   ]
  },
  {
   "cell_type": "code",
   "execution_count": null,
   "id": "77d70f73",
   "metadata": {},
   "outputs": [],
   "source": [
    "print(\"Accuracy: \", accuracy_score(testTargets, predicted))"
   ]
  }
 ],
 "metadata": {
  "kernelspec": {
   "display_name": "Python 3 (ipykernel)",
   "language": "python",
   "name": "python3"
  },
  "language_info": {
   "codemirror_mode": {
    "name": "ipython",
    "version": 3
   },
   "file_extension": ".py",
   "mimetype": "text/x-python",
   "name": "python",
   "nbconvert_exporter": "python",
   "pygments_lexer": "ipython3",
   "version": "3.8.10"
  }
 },
 "nbformat": 4,
 "nbformat_minor": 5
}
