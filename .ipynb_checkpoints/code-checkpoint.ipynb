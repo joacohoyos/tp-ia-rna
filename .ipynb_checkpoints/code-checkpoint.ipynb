{
 "cells": [
  {
   "cell_type": "code",
   "execution_count": 1,
   "id": "d7c01fac",
   "metadata": {},
   "outputs": [
    {
     "ename": "ModuleNotFoundError",
     "evalue": "No module named 'numpy'",
     "output_type": "error",
     "traceback": [
      "\u001b[1;31m---------------------------------------------------------------------------\u001b[0m",
      "\u001b[1;31mModuleNotFoundError\u001b[0m                       Traceback (most recent call last)",
      "Input \u001b[1;32mIn [1]\u001b[0m, in \u001b[0;36m<cell line: 3>\u001b[1;34m()\u001b[0m\n\u001b[0;32m      1\u001b[0m \u001b[38;5;28;01mimport\u001b[39;00m \u001b[38;5;21;01mos\u001b[39;00m\n\u001b[0;32m      2\u001b[0m \u001b[38;5;66;03m#import numpy\u001b[39;00m\n\u001b[1;32m----> 3\u001b[0m \u001b[38;5;28;01mimport\u001b[39;00m \u001b[38;5;21;01mnumpy\u001b[39;00m \u001b[38;5;28;01mas\u001b[39;00m \u001b[38;5;21;01mnp\u001b[39;00m\n\u001b[0;32m      4\u001b[0m \u001b[38;5;28;01mimport\u001b[39;00m \u001b[38;5;21;01mmatplotlib\u001b[39;00m\u001b[38;5;21;01m.\u001b[39;00m\u001b[38;5;21;01mpyplot\u001b[39;00m \u001b[38;5;28;01mas\u001b[39;00m \u001b[38;5;21;01mplt\u001b[39;00m\n\u001b[0;32m      5\u001b[0m \u001b[38;5;28;01mimport\u001b[39;00m \u001b[38;5;21;01mmatplotlib\u001b[39;00m\u001b[38;5;21;01m.\u001b[39;00m\u001b[38;5;21;01mimage\u001b[39;00m \u001b[38;5;28;01mas\u001b[39;00m \u001b[38;5;21;01mmpimg\u001b[39;00m\n",
      "\u001b[1;31mModuleNotFoundError\u001b[0m: No module named 'numpy'"
     ]
    }
   ],
   "source": [
    "import os\n",
    "#import numpy\n",
    "#import numpy as np\n",
    "import matplotlib.pyplot as plt\n",
    "import matplotlib.image as mpimg\n",
    "from sklearn.neighbors import KNeighborsClassifier\n",
    "from sklearn.metrics import accuracy_score, ConfusionMatrixDisplay, recall_score, precision_score\n",
    "from skimage.io import imread\n",
    "from skimage.color import rgb2gray\n",
    "from skimage.transform import resize\n",
    "from sklearn.ensemble import RandomForestClassifier\n",
    "from sklearn.tree import DecisionTreeClassifier\n",
    "from sklearn.model_selection import cross_val_score\n",
    "from sklearn.neural_network import MLPClassifier"
   ]
  },
  {
   "cell_type": "code",
   "execution_count": null,
   "id": "558464ae",
   "metadata": {},
   "outputs": [],
   "source": [
    "def getListOfFiles(dirName, data, key):\n",
    "    # create a list of file and sub directories \n",
    "    # names in the given directory \n",
    "    listOfFile = os.listdir(dirName)\n",
    "    # Iterate over all the entries\n",
    "    for entry in listOfFile:\n",
    "        # Create full path\n",
    "        fullPath = os.path.join(dirName, entry)\n",
    "        # If entry is a directory then get the list of files in this directory \n",
    "        if os.path.isdir(fullPath):\n",
    "            data[entry]=[]\n",
    "            data = getListOfFiles(fullPath,data, entry)\n",
    "        else:\n",
    "            data[key].append(fullPath)\n",
    "                \n",
    "    return data\n",
    "\n",
    "def getDataAndTargets(files):\n",
    "    data = list()\n",
    "    targets = list()\n",
    "    for key in files.keys():\n",
    "        for file in files[key]:\n",
    "            targets.append(int(key))\n",
    "            img = plt.imread(file)\n",
    "            img = resize(img, (16,16),anti_aliasing=True)\n",
    "            data.append(rgb2gray(img).reshape(1,-1)[0])\n",
    "    return data, targets\n",
    "\n",
    "def zip_sort(s, p):\n",
    "    ordered_s, ordered_p = zip(*sorted(list(zip(s, p)),key = lambda x: x[1]))\n",
    "    return ordered_s, ordered_p"
   ]
  },
  {
   "cell_type": "code",
   "execution_count": null,
   "id": "f7e27d45",
   "metadata": {},
   "outputs": [],
   "source": [
    "testFiles = getListOfFiles(\"./dataset/TEST\", {}, '')"
   ]
  },
  {
   "cell_type": "code",
   "execution_count": null,
   "id": "7d91c4ef",
   "metadata": {},
   "outputs": [],
   "source": [
    "trainFiles = getListOfFiles(\"./dataset/TRAIN\", {}, '')"
   ]
  },
  {
   "cell_type": "code",
   "execution_count": null,
   "id": "e15c68a6",
   "metadata": {},
   "outputs": [],
   "source": [
    "testData, testTargets = getDataAndTargets(testFiles)\n",
    "testData, testTargets = zip_sort(testData, testTargets)\n"
   ]
  },
  {
   "cell_type": "code",
   "execution_count": null,
   "id": "ec5f63c8",
   "metadata": {},
   "outputs": [],
   "source": [
    "trainData, trainTargets = getDataAndTargets(trainFiles)\n",
    "trainData, trainTargets = zip_sort(trainData, trainTargets)"
   ]
  },
  {
   "cell_type": "code",
   "execution_count": null,
   "id": "da15af20",
   "metadata": {},
   "outputs": [],
   "source": [
    "clfMlp = MLPClassifier(solver='adam', alpha=0.2, hidden_layer_sizes=(200,100,50,30), max_iter=3000)\n",
    "clfMlp.fit(trainData, trainTargets)\n",
    "predicted=clfMlp.predict(testData)\n",
    "print(\"Exactitud MLP: \", accuracy_score(testTargets, predicted))\n",
    "print(\"Precision MLP: \", precision_score(testTargets, predicted, average='macro'))\n",
    "print(\"Recuperacion MLP: \", recall_score(testTargets, predicted, average='macro'))"
   ]
  },
  {
   "cell_type": "code",
   "execution_count": null,
   "id": "f97f8329",
   "metadata": {},
   "outputs": [],
   "source": [
    "plt.plot(clfMlp.loss_curve_)"
   ]
  },
  {
   "cell_type": "code",
   "execution_count": null,
   "id": "818feca6",
   "metadata": {},
   "outputs": [],
   "source": [
    "ConfusionMatrixDisplay.from_predictions(testTargets, predicted)\n",
    "plt.show()"
   ]
  },
  {
   "cell_type": "code",
   "execution_count": null,
   "id": "c5435186",
   "metadata": {},
   "outputs": [],
   "source": [
    "clfMlp2 = MLPClassifier(solver='adam', alpha=0.1, hidden_layer_sizes=(1000,800,600), max_iter=3000)\n",
    "clfMlp2.fit(trainData, trainTargets)\n",
    "predicted2=clfMlp2.predict(testData)\n",
    "print(\"Exactitud MLP-2: \", accuracy_score(testTargets, predicted2))\n",
    "print(\"Precision MLP-2: \", precision_score(testTargets, predicted2, average='macro'))\n",
    "print(\"Recuperacion MLP-2: \", recall_score(testTargets, predicted2, average='macro'))"
   ]
  },
  {
   "cell_type": "code",
   "execution_count": null,
   "id": "0108331b",
   "metadata": {},
   "outputs": [],
   "source": [
    "plt.plot(clfMlp2.loss_curve_)"
   ]
  },
  {
   "cell_type": "code",
   "execution_count": null,
   "id": "b31d16b0",
   "metadata": {},
   "outputs": [],
   "source": [
    "ConfusionMatrixDisplay.from_predictions(testTargets, predicted2)\n",
    "plt.show()"
   ]
  },
  {
   "cell_type": "code",
   "execution_count": null,
   "id": "921c20a3",
   "metadata": {},
   "outputs": [],
   "source": [
    "clfMlp3 = MLPClassifier(solver='adam', alpha=0.2, hidden_layer_sizes=(300,200,100,50,30), max_iter=3000)\n",
    "clfMlp3.fit(trainData, trainTargets)\n",
    "predicted3=clfMlp3.predict(testData)\n",
    "print(\"Exactitud MLP-3: \", accuracy_score(testTargets, predicted3))\n",
    "print(\"Precision MLP-3: \", precision_score(testTargets, predicted3, average='macro'))\n",
    "print(\"Recuperacion MLP-3: \", recall_score(testTargets, predicted3, average='macro'))"
   ]
  },
  {
   "cell_type": "code",
   "execution_count": null,
   "id": "8b4c35fe",
   "metadata": {
    "scrolled": true
   },
   "outputs": [],
   "source": [
    "plt.plot(clfMlp3.loss_curve_)"
   ]
  },
  {
   "cell_type": "code",
   "execution_count": null,
   "id": "d9b68b94",
   "metadata": {
    "scrolled": true
   },
   "outputs": [],
   "source": [
    "ConfusionMatrixDisplay.from_predictions(testTargets, predicted3)\n",
    "plt.show()"
   ]
  }
 ],
 "metadata": {
  "kernelspec": {
   "display_name": "Python 3 (ipykernel)",
   "language": "python",
   "name": "python3"
  },
  "language_info": {
   "codemirror_mode": {
    "name": "ipython",
    "version": 3
   },
   "file_extension": ".py",
   "mimetype": "text/x-python",
   "name": "python",
   "nbconvert_exporter": "python",
   "pygments_lexer": "ipython3",
   "version": "3.10.4"
  }
 },
 "nbformat": 4,
 "nbformat_minor": 5
}
