{
 "cells": [
  {
   "cell_type": "code",
   "execution_count": 2,
   "id": "d7c01fac",
   "metadata": {},
   "outputs": [],
   "source": [
    "import os\n",
    "import numpy\n",
    "import numpy as np\n",
    "import matplotlib.pyplot as plt\n",
    "import matplotlib.image as mpimg\n",
    "from sklearn.neighbors import KNeighborsClassifier\n",
    "from sklearn.metrics import accuracy_score\n",
    "from skimage.io import imread\n",
    "from skimage.color import rgb2gray\n",
    "from skimage.transform import resize\n",
    "from sklearn.ensemble import RandomForestClassifier\n",
    "from sklearn.tree import DecisionTreeClassifier\n",
    "from sklearn.model_selection import cross_val_score\n",
    "from sklearn.neural_network import MLPClassifier"
   ]
  },
  {
   "cell_type": "code",
   "execution_count": 3,
   "id": "558464ae",
   "metadata": {},
   "outputs": [],
   "source": [
    "def getListOfFiles(dirName, data, key):\n",
    "    # create a list of file and sub directories \n",
    "    # names in the given directory \n",
    "    listOfFile = os.listdir(dirName)\n",
    "    # Iterate over all the entries\n",
    "    for entry in listOfFile:\n",
    "        # Create full path\n",
    "        fullPath = os.path.join(dirName, entry)\n",
    "        # If entry is a directory then get the list of files in this directory \n",
    "        if os.path.isdir(fullPath):\n",
    "            data[entry]=[]\n",
    "            data = getListOfFiles(fullPath,data, entry)\n",
    "        else:\n",
    "            data[key].append(fullPath)\n",
    "                \n",
    "    return data\n",
    "\n",
    "def rgb2graydeprecated(rgb):\n",
    "    return np.dot(rgb[...,:3], [0.2989, 0.5870, 0.1140])\n",
    "\n",
    "def getDataAndTargets(files):\n",
    "    data = list()\n",
    "    targets = list()\n",
    "    for key in files.keys():\n",
    "        for file in files[key]:\n",
    "            targets.append(int(key))\n",
    "            img = plt.imread(file)\n",
    "            img = resize(img, (100,100),anti_aliasing=True)\n",
    "            data.append(rgb2gray(img).reshape(1,-1)[0])\n",
    "    return data, targets\n",
    "\n",
    "def zip_sort(s, p):\n",
    "    ordered_s, ordered_p = zip(*sorted(list(zip(s, p)),key = lambda x: x[1]))\n",
    "    return ordered_s, ordered_p"
   ]
  },
  {
   "cell_type": "code",
   "execution_count": 4,
   "id": "f7e27d45",
   "metadata": {},
   "outputs": [],
   "source": [
    "testFiles = getListOfFiles(\"./dataset/TEST\", {}, '')"
   ]
  },
  {
   "cell_type": "code",
   "execution_count": 5,
   "id": "7d91c4ef",
   "metadata": {},
   "outputs": [],
   "source": [
    "trainFiles = getListOfFiles(\"./dataset/TRAIN\", {}, '')"
   ]
  },
  {
   "cell_type": "code",
   "execution_count": 6,
   "id": "e15c68a6",
   "metadata": {},
   "outputs": [],
   "source": [
    "testData, testTargets = getDataAndTargets(testFiles)\n",
    "testData, testTargets = zip_sort(testData, testTargets)\n"
   ]
  },
  {
   "cell_type": "code",
   "execution_count": 7,
   "id": "ec5f63c8",
   "metadata": {},
   "outputs": [],
   "source": [
    "trainData, trainTargets = getDataAndTargets(trainFiles)\n",
    "trainData, trainTargets = zip_sort(trainData, trainTargets)"
   ]
  },
  {
   "cell_type": "code",
   "execution_count": 21,
   "id": "da15af20",
   "metadata": {},
   "outputs": [],
   "source": [
    "clfMlp = MLPClassifier(solver='adam', alpha=0.2, hidden_layer_sizes=(200,100,50,30), max_iter=3000)\n",
    "clfMlp.fit(trainData, trainTargets)\n",
    "predicted=clfMlp.predict(testData)"
   ]
  },
  {
   "cell_type": "code",
   "execution_count": 22,
   "id": "f97f8329",
   "metadata": {},
   "outputs": [
    {
     "name": "stdout",
     "output_type": "stream",
     "text": [
      "Accuracy MLP:  0.6922398589065256\n"
     ]
    }
   ],
   "source": [
    "print(\"Accuracy MLP: \", accuracy_score(testTargets, predicted))"
   ]
  },
  {
   "cell_type": "code",
   "execution_count": null,
   "id": "c5435186",
   "metadata": {},
   "outputs": [],
   "source": [
    "clfMlp2 = MLPClassifier(solver='adam', alpha=0.1, hidden_layer_sizes=(200,100,50,30), max_iter=3000)\n",
    "clfMlp2.fit(trainData, trainTargets)\n",
    "predicted2=clfMlp2.predict(testData)\n",
    "print(\"Accuracy MLP: \", accuracy_score(testTargets, predicted2))"
   ]
  },
  {
   "cell_type": "code",
   "execution_count": 31,
   "id": "921c20a3",
   "metadata": {},
   "outputs": [
    {
     "name": "stdout",
     "output_type": "stream",
     "text": [
      "Accuracy MLP:  0.6948853615520282\n"
     ]
    }
   ],
   "source": [
    "clfMlp3 = MLPClassifier(solver='adam', alpha=0.2, hidden_layer_sizes=(300,200,100,50,30), max_iter=3000)\n",
    "clfMlp3.fit(trainData, trainTargets)\n",
    "predicted3=clfMlp3.predict(testData)\n",
    "print(\"Accuracy MLP: \", accuracy_score(testTargets, predicted3))"
   ]
  },
  {
   "cell_type": "code",
   "execution_count": 8,
   "id": "7abaae07",
   "metadata": {},
   "outputs": [
    {
     "ename": "NameError",
     "evalue": "name 'predicted4' is not defined",
     "output_type": "error",
     "traceback": [
      "\u001b[0;31m---------------------------------------------------------------------------\u001b[0m",
      "\u001b[0;31mNameError\u001b[0m                                 Traceback (most recent call last)",
      "Input \u001b[0;32mIn [8]\u001b[0m, in \u001b[0;36m<cell line: 4>\u001b[0;34m()\u001b[0m\n\u001b[1;32m      2\u001b[0m clfMlp4\u001b[38;5;241m.\u001b[39mfit(trainData, trainTargets)\n\u001b[1;32m      3\u001b[0m predicted3\u001b[38;5;241m=\u001b[39mclfMlp4\u001b[38;5;241m.\u001b[39mpredict(testData)\n\u001b[0;32m----> 4\u001b[0m \u001b[38;5;28mprint\u001b[39m(\u001b[38;5;124m\"\u001b[39m\u001b[38;5;124mAccuracy MLP: \u001b[39m\u001b[38;5;124m\"\u001b[39m, accuracy_score(testTargets, \u001b[43mpredicted4\u001b[49m))\n",
      "\u001b[0;31mNameError\u001b[0m: name 'predicted4' is not defined"
     ]
    }
   ],
   "source": [
    "clfMlp4 = MLPClassifier(solver='adam', alpha=0.01, hidden_layer_sizes=(200,100,50,30), max_iter=3000)\n",
    "clfMlp4.fit(trainData, trainTargets)\n"
   ]
  },
  {
   "cell_type": "code",
   "execution_count": 9,
   "id": "b1dcd662",
   "metadata": {},
   "outputs": [
    {
     "name": "stdout",
     "output_type": "stream",
     "text": [
      "Accuracy MLP:  0.6940035273368607\n"
     ]
    }
   ],
   "source": [
    "predicted4=clfMlp4.predict(testData)\n",
    "print(\"Accuracy MLP: \", accuracy_score(testTargets, predicted4))"
   ]
  },
  {
   "cell_type": "code",
   "execution_count": null,
   "id": "e7736a40",
   "metadata": {},
   "outputs": [],
   "source": []
  }
 ],
 "metadata": {
  "kernelspec": {
   "display_name": "Python 3 (ipykernel)",
   "language": "python",
   "name": "python3"
  },
  "language_info": {
   "codemirror_mode": {
    "name": "ipython",
    "version": 3
   },
   "file_extension": ".py",
   "mimetype": "text/x-python",
   "name": "python",
   "nbconvert_exporter": "python",
   "pygments_lexer": "ipython3",
   "version": "3.10.4"
  }
 },
 "nbformat": 4,
 "nbformat_minor": 5
}
